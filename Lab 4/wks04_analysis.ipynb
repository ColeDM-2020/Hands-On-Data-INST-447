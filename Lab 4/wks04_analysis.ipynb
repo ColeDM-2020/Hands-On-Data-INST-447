{
 "cells": [
  {
   "attachments": {},
   "cell_type": "markdown",
   "metadata": {},
   "source": [
    "# Week 04 Exercises: Analysis\n",
    "**INST447: Data Sources and Manipulation**\n",
    "\n",
    "These exercises are taken from the following book:\n",
    "    Roy Jafari. Hands-On Data Preprocessing in Python. Packt Publishing, 2022.\n"
   ]
  },
  {
   "attachments": {},
   "cell_type": "markdown",
   "metadata": {},
   "source": [
    "## Chapter 06: Prediction\n",
    "\n",
    "Chapter 06 covers predictive modeling using forecasting, linear regression, and multilayer perceptrons (MLP) models. These chapters do not go deep enough into the topic to truly understand what is going on. There are many details that are missing (just think about how long you talked about linear regression in INST314). The goal is to have an idea of what will happen to the datesets that we are preparing for analysis. It also turns out that a great way to identify problems with a dataset is to try to answer questions using it."
   ]
  },
  {
   "cell_type": "markdown",
   "metadata": {},
   "source": [
    "### Exercise 2\n",
    "2. In this exercise, we will be using ToyotaCorolla_preprocessed.csv. This dataset has the following columns: Age, Milage_KM, Quarterly_Tax, Weight, \tFuel_Type_CNG, Fuel_Type_Diesel, Fuel_Type_Petrol, and Price. Each data object in this dataset is a used Toyota Corolla car. We would like to use this dataset to predict the price of used Toyota Corolla cars. "
   ]
  },
  {
   "attachments": {},
   "cell_type": "markdown",
   "metadata": {},
   "source": [
    "a. Read the data into the pandas DataFrame car_df"
   ]
  },
  {
   "cell_type": "code",
   "execution_count": null,
   "metadata": {},
   "outputs": [],
   "source": []
  },
  {
   "attachments": {},
   "cell_type": "markdown",
   "metadata": {},
   "source": [
    "b. Use the skills you picked up in the previous chapter to come up with data visualizations that show the relationship between the attribute price and the rest of the attributes."
   ]
  },
  {
   "cell_type": "code",
   "execution_count": null,
   "metadata": {},
   "outputs": [],
   "source": []
  },
  {
   "attachments": {},
   "cell_type": "markdown",
   "metadata": {},
   "source": [
    "c. Use the visuals in b, to describe the relationship each of the attributes has with the attribute price."
   ]
  },
  {
   "cell_type": "code",
   "execution_count": null,
   "metadata": {},
   "outputs": [],
   "source": []
  },
  {
   "attachments": {},
   "cell_type": "markdown",
   "metadata": {},
   "source": [
    "d. Create the correlation matrix for all the attributes, and report the correlation values for the relationship that you investigated in b and c."
   ]
  },
  {
   "cell_type": "code",
   "execution_count": null,
   "metadata": {},
   "outputs": [],
   "source": []
  },
  {
   "attachments": {},
   "cell_type": "markdown",
   "metadata": {},
   "source": [
    "e. Did the visual investigations you performed in b and c was confirmed in d. For what types of attributes the conclusions for c were not confirmed in d? "
   ]
  },
  {
   "cell_type": "code",
   "execution_count": null,
   "metadata": {},
   "outputs": [],
   "source": []
  },
  {
   "attachments": {},
   "cell_type": "markdown",
   "metadata": {},
   "source": [
    "f. Perform a linear regression to predict the attribute price. Use all the attributes that you detect they had a meaningful relationship with the attribute price as independent attributes. Predict the price of a car with the following specifications: Age: 74 months, Milage_KM: 124057, Quarterly_Tax: 69, and Weight: 1050. The car fuel type is diesel."
   ]
  },
  {
   "cell_type": "code",
   "execution_count": null,
   "metadata": {},
   "outputs": [],
   "source": []
  },
  {
   "attachments": {},
   "cell_type": "markdown",
   "metadata": {},
   "source": [
    "g. Implement an MLP algorithm to predict the attribute price. Use all the attributes that you used in f and predict the price of the same new car presented in f. Use (5,10) network structure (hidden_layer_sizes), and set the max_iter as 500. "
   ]
  },
  {
   "cell_type": "code",
   "execution_count": null,
   "metadata": {},
   "outputs": [],
   "source": []
  },
  {
   "attachments": {},
   "cell_type": "markdown",
   "metadata": {},
   "source": [
    "h.\tThe actual price of the new car presented under f is 7950. Report which algorithm performed a better prediction. "
   ]
  },
  {
   "cell_type": "code",
   "execution_count": null,
   "metadata": {},
   "outputs": [],
   "source": []
  },
  {
   "attachments": {},
   "cell_type": "markdown",
   "metadata": {},
   "source": [
    "## Chapter 07: Classification\n",
    "\n",
    "In Chapter 06 we had a high-level overview of predicting numerical values. Chapter 07 covers classification or the prediction of categorical values. \n",
    "\n",
    "This is one of the hottest topics in machine learning and data science. This chapter is meant to give you an idea of what the goals are and what some common approaches are, but we will not cover any of these techniques in depth."
   ]
  },
  {
   "attachments": {},
   "cell_type": "markdown",
   "metadata": {},
   "source": [
    "### Excercise 3\n",
    "\n",
    "For this exercise, we are going to use the Customer Churn.csv. This dataset is randomly collected from an Iranian telecom company’s database over a period of 12 months. A total of 3150 rows of data, each representing a customer, bear information for 13 columns. The attributes that are in this dataset are listed below:\n",
    "    \n",
    "    Call Failures: number of call failures\n",
    "    Complains: binary (0: No complaint, 1: complaint)\n",
    "    Subscription Length: total months of subscription\n",
    "    Seconds of Use: total seconds of calls\n",
    "    Frequency of use: total number of calls\n",
    "    Frequency of SMS: total number of text messages\n",
    "    Distinct Called Numbers: total number of distinct phone calls\n",
    "    Status: binary (1: active, 0: non-active)\n",
    "    Churn: binary (1: churn, 0: non-churn) - Class label\n",
    "\n",
    "All of the attributes except for attribute churn are the aggregated data of the first 9 months. The churn labels are the state of the customers at the end of 12 months. The three months is the designated planning gap.\n",
    "\n",
    "Using the above data, we would like to use this dataset to predict if the following customer will churn in three months. Call Failures: 8, Complains: 1, Subscription Length: 40, Seconds of Use: 4472, Frequency of use: 70, \n",
    "Frequency of SMS: 100, \tDistinct Called Numbers: 25, Status: 1. \n",
    "\n",
    "To do this, perform the following steps."
   ]
  },
  {
   "attachments": {},
   "cell_type": "markdown",
   "metadata": {},
   "source": [
    "a. Read the data into the pandas DataFrame customer_df."
   ]
  },
  {
   "cell_type": "code",
   "execution_count": null,
   "metadata": {},
   "outputs": [],
   "source": []
  },
  {
   "attachments": {},
   "cell_type": "markdown",
   "metadata": {},
   "source": [
    "b. Use the skills you picked up in chapter 5 Data Visualization to come up with data visualizations that show the relationship between the attribute churn and the rest of the attributes."
   ]
  },
  {
   "cell_type": "code",
   "execution_count": null,
   "metadata": {},
   "outputs": [],
   "source": []
  },
  {
   "attachments": {},
   "cell_type": "markdown",
   "metadata": {},
   "source": [
    "c. Use the visuals in b, to describe the relationship each of the attributes has with the attribute price."
   ]
  },
  {
   "cell_type": "code",
   "execution_count": null,
   "metadata": {},
   "outputs": [],
   "source": []
  },
  {
   "attachments": {},
   "cell_type": "markdown",
   "metadata": {},
   "source": [
    "d. Perform KNN to predict if the aforementioned customer will be churned using all of the attributes that had a meaningful relationship with churn.   "
   ]
  },
  {
   "cell_type": "code",
   "execution_count": null,
   "metadata": {},
   "outputs": [],
   "source": []
  },
  {
   "attachments": {},
   "cell_type": "markdown",
   "metadata": {},
   "source": [
    "e. Repeat d, but this time use K=10. Are the conclusions different?"
   ]
  },
  {
   "cell_type": "code",
   "execution_count": null,
   "metadata": {},
   "outputs": [],
   "source": []
  },
  {
   "attachments": {},
   "cell_type": "markdown",
   "metadata": {},
   "source": [
    "f. Now use the Decision Tree for classification. Is the conclusion of the Decision Tree different from that of the KNN?"
   ]
  },
  {
   "cell_type": "code",
   "execution_count": null,
   "metadata": {},
   "outputs": [],
   "source": []
  },
  {
   "attachments": {},
   "cell_type": "markdown",
   "metadata": {},
   "source": [
    "g. Draw the tree-like structure of the Decision Tree and explain how the Decision Tree came to the conclusion it did. "
   ]
  },
  {
   "cell_type": "code",
   "execution_count": null,
   "metadata": {},
   "outputs": [],
   "source": []
  },
  {
   "attachments": {},
   "cell_type": "markdown",
   "metadata": {},
   "source": [
    "## Chapter 08: Clustering\n",
    "\n",
    "Unlike the previous two chapters, Chapter 08 covers an unsuppervised learning technique to idenify groups within a dataset. These groups are called \"clusters\" and the technique is called \"clustering.\" This is a great way to identify observations that are similar to each other based on the values of select attributes. Humans are pretty good at identifying clusters in 2d data through visualizations, but the techniques explored in this chapter can identify clusters in multiple dimensions."
   ]
  },
  {
   "attachments": {},
   "cell_type": "markdown",
   "metadata": {},
   "source": [
    "### Exercise 3\n",
    "In this chapter, we used WH Report_preprocessed.csv to form meaningful clusters of countries only using 2019 data. In this exercise, we want to use the data of all the years 2010-2019. Perform the following steps to do this."
   ]
  },
  {
   "attachments": {},
   "cell_type": "markdown",
   "metadata": {},
   "source": [
    "a. Use a .pivot() function to restructure the data so each combination of year and happiness index has a column. In other words, the data of the year is recorded in the long format and we would like to change that into the wide format. We will not need the columns population and Continent. "
   ]
  },
  {
   "cell_type": "code",
   "execution_count": null,
   "metadata": {},
   "outputs": [],
   "source": []
  },
  {
   "attachments": {},
   "cell_type": "markdown",
   "metadata": {},
   "source": [
    "b. Normalize pvt_df and assign into Xs."
   ]
  },
  {
   "cell_type": "code",
   "execution_count": null,
   "metadata": {},
   "outputs": [],
   "source": []
  },
  {
   "attachments": {},
   "cell_type": "markdown",
   "metadata": {},
   "source": [
    "c. Use K-means and Xs to find 3 clusters among the data objects. Report the members of each cluster. "
   ]
  },
  {
   "cell_type": "code",
   "execution_count": null,
   "metadata": {},
   "outputs": [],
   "source": []
  },
  {
   "attachments": {},
   "cell_type": "markdown",
   "metadata": {},
   "source": [
    "d. Use a heatmap to perform centroid analysis. As the number of columns is many for this clustering, you may have to resize the heatmap bigger so you can use it for analysis. Make sure you’ve given a name to each cluster.  "
   ]
  },
  {
   "cell_type": "code",
   "execution_count": null,
   "metadata": {},
   "outputs": [],
   "source": []
  }
 ],
 "metadata": {
  "kernelspec": {
   "display_name": "inst346-sp23",
   "language": "python",
   "name": "python3"
  },
  "language_info": {
   "name": "python",
   "version": "3.9.16"
  },
  "orig_nbformat": 4,
  "vscode": {
   "interpreter": {
    "hash": "98f550a812ff849b3df05c60dd7a9587fb3ca51026e7dad5befc63e456a7d08c"
   }
  }
 },
 "nbformat": 4,
 "nbformat_minor": 2
}
