{
 "cells": [
  {
   "cell_type": "markdown",
   "metadata": {},
   "source": [
    "## Hands-On Data Preprocessing in Python\n",
    "Learn how to effectively prepare data for successful data analytics\n",
    "    \n",
    "    AUTHOR: Dr. Roy Jafari \n",
    "\n",
    "### Chapter 5: Data Visualization \n",
    "#### Excercises"
   ]
  },
  {
   "cell_type": "code",
   "execution_count": 1,
   "metadata": {},
   "outputs": [],
   "source": [
    "import pandas as pd\n",
    "import matplotlib.pyplot as plt\n",
    "import numpy as np\n",
    "import seaborn as sns\n",
    "from ipywidgets import interact, widgets"
   ]
  },
  {
   "cell_type": "markdown",
   "metadata": {},
   "source": [
    "# Excercise 1\n",
    "In this exercise, we will be using Universities_imputed_reduced.csv. Draw the following described visualizations.\n",
    "\n",
    "    a.\tUse boxplots to compare the student to faculty ratio (stud./fac. ratio) for the two population public and private universities.\n",
    "    b.\tUse a histogram to compare the student to faculty ratio (stud./fac. ratio) for the two population public and private universities.\n",
    "    c.\tuse subplots to put the results of a and b on top of one another to create a visual that compares the two populations even better. \n"
   ]
  },
  {
   "cell_type": "code",
   "execution_count": 2,
   "metadata": {
    "scrolled": true
   },
   "outputs": [
    {
     "data": {
      "text/html": [
       "<div>\n",
       "<style scoped>\n",
       "    .dataframe tbody tr th:only-of-type {\n",
       "        vertical-align: middle;\n",
       "    }\n",
       "\n",
       "    .dataframe tbody tr th {\n",
       "        vertical-align: top;\n",
       "    }\n",
       "\n",
       "    .dataframe thead th {\n",
       "        text-align: right;\n",
       "    }\n",
       "</style>\n",
       "<table border=\"1\" class=\"dataframe\">\n",
       "  <thead>\n",
       "    <tr style=\"text-align: right;\">\n",
       "      <th></th>\n",
       "      <th>College Name</th>\n",
       "      <th>State</th>\n",
       "      <th>Public/Private</th>\n",
       "      <th>num_appli_rec</th>\n",
       "      <th>num_appl_accepted</th>\n",
       "      <th>num_new_stud_enrolled</th>\n",
       "      <th>in-state tuition</th>\n",
       "      <th>out-of-state tuition</th>\n",
       "      <th>% fac. w/PHD</th>\n",
       "      <th>stud./fac. ratio</th>\n",
       "      <th>Graduation rate</th>\n",
       "    </tr>\n",
       "  </thead>\n",
       "  <tbody>\n",
       "    <tr>\n",
       "      <th>0</th>\n",
       "      <td>Alaska Pacific University</td>\n",
       "      <td>AK</td>\n",
       "      <td>Private</td>\n",
       "      <td>193</td>\n",
       "      <td>146</td>\n",
       "      <td>55</td>\n",
       "      <td>7560</td>\n",
       "      <td>7560</td>\n",
       "      <td>76</td>\n",
       "      <td>11.9</td>\n",
       "      <td>15</td>\n",
       "    </tr>\n",
       "    <tr>\n",
       "      <th>1</th>\n",
       "      <td>University of Alaska at Fairbanks</td>\n",
       "      <td>AK</td>\n",
       "      <td>Public</td>\n",
       "      <td>1852</td>\n",
       "      <td>1427</td>\n",
       "      <td>928</td>\n",
       "      <td>1742</td>\n",
       "      <td>5226</td>\n",
       "      <td>67</td>\n",
       "      <td>10.0</td>\n",
       "      <td>60</td>\n",
       "    </tr>\n",
       "    <tr>\n",
       "      <th>2</th>\n",
       "      <td>University of Alaska Southeast</td>\n",
       "      <td>AK</td>\n",
       "      <td>Public</td>\n",
       "      <td>146</td>\n",
       "      <td>117</td>\n",
       "      <td>89</td>\n",
       "      <td>1742</td>\n",
       "      <td>5226</td>\n",
       "      <td>39</td>\n",
       "      <td>9.5</td>\n",
       "      <td>39</td>\n",
       "    </tr>\n",
       "    <tr>\n",
       "      <th>3</th>\n",
       "      <td>University of Alaska at Anchorage</td>\n",
       "      <td>AK</td>\n",
       "      <td>Public</td>\n",
       "      <td>2065</td>\n",
       "      <td>1598</td>\n",
       "      <td>1162</td>\n",
       "      <td>1742</td>\n",
       "      <td>5226</td>\n",
       "      <td>48</td>\n",
       "      <td>13.7</td>\n",
       "      <td>60</td>\n",
       "    </tr>\n",
       "    <tr>\n",
       "      <th>4</th>\n",
       "      <td>Alabama Agri. &amp; Mech. Univ.</td>\n",
       "      <td>AL</td>\n",
       "      <td>Public</td>\n",
       "      <td>2817</td>\n",
       "      <td>1920</td>\n",
       "      <td>984</td>\n",
       "      <td>1700</td>\n",
       "      <td>3400</td>\n",
       "      <td>53</td>\n",
       "      <td>14.3</td>\n",
       "      <td>40</td>\n",
       "    </tr>\n",
       "  </tbody>\n",
       "</table>\n",
       "</div>"
      ],
      "text/plain": [
       "                        College Name State Public/Private  num_appli_rec  \\\n",
       "0          Alaska Pacific University    AK        Private            193   \n",
       "1  University of Alaska at Fairbanks    AK         Public           1852   \n",
       "2     University of Alaska Southeast    AK         Public            146   \n",
       "3  University of Alaska at Anchorage    AK         Public           2065   \n",
       "4        Alabama Agri. & Mech. Univ.    AL         Public           2817   \n",
       "\n",
       "   num_appl_accepted  num_new_stud_enrolled  in-state tuition  \\\n",
       "0                146                     55              7560   \n",
       "1               1427                    928              1742   \n",
       "2                117                     89              1742   \n",
       "3               1598                   1162              1742   \n",
       "4               1920                    984              1700   \n",
       "\n",
       "   out-of-state tuition  % fac. w/PHD  stud./fac. ratio  Graduation rate  \n",
       "0                  7560            76              11.9               15  \n",
       "1                  5226            67              10.0               60  \n",
       "2                  5226            39               9.5               39  \n",
       "3                  5226            48              13.7               60  \n",
       "4                  3400            53              14.3               40  "
      ]
     },
     "execution_count": 2,
     "metadata": {},
     "output_type": "execute_result"
    }
   ],
   "source": [
    "uni_df = pd.read_csv('Universities_imputed_reduced.csv')\n",
    "uni_df.head()"
   ]
  },
  {
   "cell_type": "markdown",
   "metadata": {},
   "source": [
    "a. "
   ]
  },
  {
   "cell_type": "code",
   "execution_count": 11,
   "metadata": {},
   "outputs": [
    {
     "data": {
      "image/png": "[encoded data removed]",
      "text/plain": [
       "<Figure size 640x480 with 1 Axes>"
      ]
     },
     "metadata": {},
     "output_type": "display_data"
    }
   ],
   "source": [
    "pb = uni_df['Public/Private'] =='Public'\n",
    "uni_df[pb]['stud./fac. ratio'].plot.box(vert = False)\n",
    "plt.title('Public')\n",
    "\n",
    "plt.show()"
   ]
  },
  {
   "cell_type": "code",
   "execution_count": 7,
   "metadata": {},
   "outputs": [
    {
     "data": {
      "text/plain": [
       "<AxesSubplot: >"
      ]
     },
     "execution_count": 7,
     "metadata": {},
     "output_type": "execute_result"
    },
    {
     "data": {
      "image/png": "[encoded data removed]",
      "text/plain": [
       "<Figure size 640x480 with 1 Axes>"
      ]
     },
     "metadata": {},
     "output_type": "display_data"
    }
   ],
   "source": [
    "uni_df['stud./fac. ratio'].plot.box()"
   ]
  },
  {
   "cell_type": "markdown",
   "metadata": {},
   "source": [
    "b. "
   ]
  },
  {
   "cell_type": "code",
   "execution_count": 14,
   "metadata": {},
   "outputs": [
    {
     "data": {
      "image/png": "[encoded data removed]",
      "text/plain": [
       "<Figure size 640x480 with 1 Axes>"
      ]
     },
     "metadata": {},
     "output_type": "display_data"
    }
   ],
   "source": [
    "pb = uni_df['Public/Private'] =='Public'\n",
    "uni_df[pb]['stud./fac. ratio'].plot.hist()\n",
    "plt.title('Public')\n",
    "\n",
    "plt.show()"
   ]
  },
  {
   "cell_type": "markdown",
   "metadata": {},
   "source": [
    "c. "
   ]
  },
  {
   "cell_type": "code",
   "execution_count": 16,
   "metadata": {},
   "outputs": [
    {
     "data": {
      "text/plain": [
       "<AxesSubplot: >"
      ]
     },
     "execution_count": 16,
     "metadata": {},
     "output_type": "execute_result"
    },
    {
     "data": {
      "image/png": "[encoded data removed]",
      "text/plain": [
       "<Figure size 640x480 with 2 Axes>"
      ]
     },
     "metadata": {},
     "output_type": "display_data"
    }
   ],
   "source": [
    "plt.subplot(2,1,1)\n",
    "pb = uni_df['Public/Private'] =='Public'\n",
    "uni_df[pb]['stud./fac. ratio'].plot.hist()\n",
    "plt.title('Public')\n",
    "\n",
    "plt.subplot(2,1,2)\n",
    "pb = uni_df['Public/Private'] =='Public'\n",
    "uni_df[pb]['stud./fac. ratio'].plot.box(vert = False)"
   ]
  },
  {
   "cell_type": "markdown",
   "metadata": {},
   "source": [
    "# Excercise 2\n",
    "\n",
    "In this exercise, we will continue using Universities_imputed_reduced.csv. Draw the following described visualizations.\n",
    "\n",
    "    a.\tUse a bar chart to compare the private/public ratio of all the states in the dataset. In this example, the populations we are comparing are the states. \n",
    "    b.\tImprove the visualizations by sorting the states on the visuals based on the total number of universities they have.\n",
    "    c.\tCreate a stacked bar chart that shows the compare the percentages of public and private schools across different states. "
   ]
  },
  {
   "cell_type": "markdown",
   "metadata": {},
   "source": [
    "a."
   ]
  },
  {
   "cell_type": "code",
   "execution_count": 19,
   "metadata": {},
   "outputs": [
    {
     "data": {
      "text/plain": [
       "<AxesSubplot: >"
      ]
     },
     "execution_count": 19,
     "metadata": {},
     "output_type": "execute_result"
    },
    {
     "data": {
      "image/png": "[encoded data removed]",
      "text/plain": [
       "<Figure size 640x480 with 1 Axes>"
      ]
     },
     "metadata": {},
     "output_type": "display_data"
    }
   ],
   "source": [
    "state = 'OK'\n",
    "st = uni_df['State'] == state\n",
    "uni_df[st]['Public/Private'].value_counts().plot.barh()\n"
   ]
  },
  {
   "cell_type": "code",
   "execution_count": 33,
   "metadata": {},
   "outputs": [
    {
     "data": {
      "image/png": "[encoded data removed]",
      "text/plain": [
       "<Figure size 640x480 with 1 Axes>"
      ]
     },
     "metadata": {},
     "output_type": "display_data"
    }
   ],
   "source": [
    "#fig, ax = plt.subplot(1, 1, figsize=(10,10))\n",
    "uni_df.groupby(['State', 'Public/Private']).size().unstack().plot.barh()\n",
    "plt.show()"
   ]
  },
  {
   "cell_type": "markdown",
   "metadata": {},
   "source": [
    "b."
   ]
  },
  {
   "cell_type": "code",
   "execution_count": 31,
   "metadata": {},
   "outputs": [
    {
     "data": {
      "text/plain": [
       "['NY',\n",
       " 'PA',\n",
       " 'CA',\n",
       " 'TX',\n",
       " 'MA',\n",
       " 'OH',\n",
       " 'IL',\n",
       " 'NC',\n",
       " 'IN',\n",
       " 'VA',\n",
       " 'MI',\n",
       " 'GA',\n",
       " 'MO',\n",
       " 'TN',\n",
       " 'FL',\n",
       " 'IA',\n",
       " 'WI',\n",
       " 'NJ',\n",
       " 'SC',\n",
       " 'MN',\n",
       " 'AL',\n",
       " 'KY',\n",
       " 'MD',\n",
       " 'OK',\n",
       " 'KS',\n",
       " 'LA',\n",
       " 'CT',\n",
       " 'OR',\n",
       " 'AR',\n",
       " 'WV',\n",
       " 'WA',\n",
       " 'NE',\n",
       " 'CO',\n",
       " 'MS',\n",
       " 'ME',\n",
       " 'VT',\n",
       " 'NH',\n",
       " 'SD',\n",
       " 'NM',\n",
       " 'DC',\n",
       " 'MT',\n",
       " 'ND',\n",
       " 'RI',\n",
       " 'ID',\n",
       " 'UT',\n",
       " 'HI',\n",
       " 'DE',\n",
       " 'AZ',\n",
       " 'AK',\n",
       " 'NV',\n",
       " 'WY']"
      ]
     },
     "execution_count": 31,
     "metadata": {},
     "output_type": "execute_result"
    }
   ],
   "source": [
    "uni_df.groupby('State').size().sort_values(ascending=False).index.to_list()"
   ]
  },
  {
   "cell_type": "markdown",
   "metadata": {},
   "source": [
    "c."
   ]
  },
  {
   "cell_type": "code",
   "execution_count": null,
   "metadata": {},
   "outputs": [],
   "source": []
  },
  {
   "cell_type": "markdown",
   "metadata": {},
   "source": [
    "# Excercise 3\n",
    "\n",
    "For this example, we will be using WH Report_preprocessed.csv. Draw the following described visualizations.\n",
    "\n",
    "    a.\tCreate a visual that compares the relationship between all the happiness indices.\n",
    "    b.\tUse the visual you created in a) to report the happiness indices with strong relationships, and describe those relationships.\n",
    "    c.\tConfirm the relationship you found and described by calculating their correlation coefficients and adding these new pieces of information to your description to improve them. \n"
   ]
  },
  {
   "cell_type": "code",
   "execution_count": 11,
   "metadata": {},
   "outputs": [],
   "source": [
    "report_df = pd.read_csv('WH Report_preprocessed.csv')"
   ]
  },
  {
   "cell_type": "markdown",
   "metadata": {},
   "source": [
    "a."
   ]
  },
  {
   "cell_type": "code",
   "execution_count": null,
   "metadata": {},
   "outputs": [],
   "source": []
  },
  {
   "cell_type": "markdown",
   "metadata": {},
   "source": [
    "b. "
   ]
  },
  {
   "cell_type": "code",
   "execution_count": null,
   "metadata": {},
   "outputs": [],
   "source": []
  },
  {
   "cell_type": "markdown",
   "metadata": {},
   "source": [
    "c."
   ]
  },
  {
   "cell_type": "code",
   "execution_count": null,
   "metadata": {},
   "outputs": [],
   "source": []
  },
  {
   "cell_type": "markdown",
   "metadata": {},
   "source": [
    "# Excercise 4\n",
    "\n",
    "For this exercise, we will continue using WH Report_preprocessed.csv. Draw the following described visualizations.\n",
    "\n",
    "    a.\tDraw a visual that examine the relationship between the two attributes Continent and Generosity. \n",
    "    b.\tBased on the visual, is there a relationship between the two attributes? Explain why."
   ]
  },
  {
   "cell_type": "markdown",
   "metadata": {},
   "source": [
    "a."
   ]
  },
  {
   "cell_type": "code",
   "execution_count": null,
   "metadata": {},
   "outputs": [],
   "source": []
  },
  {
   "cell_type": "markdown",
   "metadata": {},
   "source": [
    "b."
   ]
  },
  {
   "cell_type": "code",
   "execution_count": null,
   "metadata": {},
   "outputs": [],
   "source": []
  },
  {
   "cell_type": "markdown",
   "metadata": {},
   "source": [
    "# Excercise 5\n",
    "\n",
    "For this exercise, we will be using whickham.csv. Draw the following described visualizations.\n",
    "\n",
    "    a.\tWhat is the numerical attribute in this dataset? Draw two different plots that summarize the population of data objects for the numerical attribute.\n",
    "    b.\tWhat are the categorical attributes in this dataset? Draw a plot per attribute that summarizes the population of the data object for each attribute. \n",
    "    c.\t Draw a visual that examine the relationship between outcome and smoker. Do you notice anything surprising about this visualization?\n",
    "    d.\tTo demystify the surprising relationship you observed on c) run the following code, and study the visual it creates.\n",
    "\n",
    "``\n",
    "person_df = pd.read_csv('whickham.csv')\n",
    "person_df['age_discretized'] = pd.cut(person_df.age, bins = 4, labels=False)\n",
    "person_df.groupby(['age_discretized','smoker']).outcome.value_counts().unstack().unstack().plot.bar(stacked=True)\n",
    "plt.show()\n",
    "``\n",
    "\n",
    "    e.\tUsing the visual that was created under d) explain the surprising observation under c).\n",
    "    f.\tHow many dimensions the visual that was created under d) has? How did we manage to add dimensions to the bar chart?\n"
   ]
  },
  {
   "cell_type": "code",
   "execution_count": 4,
   "metadata": {
    "scrolled": true
   },
   "outputs": [
    {
     "data": {
      "text/html": [
       "<div>\n",
       "<style scoped>\n",
       "    .dataframe tbody tr th:only-of-type {\n",
       "        vertical-align: middle;\n",
       "    }\n",
       "\n",
       "    .dataframe tbody tr th {\n",
       "        vertical-align: top;\n",
       "    }\n",
       "\n",
       "    .dataframe thead th {\n",
       "        text-align: right;\n",
       "    }\n",
       "</style>\n",
       "<table border=\"1\" class=\"dataframe\">\n",
       "  <thead>\n",
       "    <tr style=\"text-align: right;\">\n",
       "      <th></th>\n",
       "      <th>outcome</th>\n",
       "      <th>smoker</th>\n",
       "      <th>age</th>\n",
       "    </tr>\n",
       "  </thead>\n",
       "  <tbody>\n",
       "    <tr>\n",
       "      <th>0</th>\n",
       "      <td>Alive</td>\n",
       "      <td>Yes</td>\n",
       "      <td>23</td>\n",
       "    </tr>\n",
       "    <tr>\n",
       "      <th>1</th>\n",
       "      <td>Alive</td>\n",
       "      <td>Yes</td>\n",
       "      <td>18</td>\n",
       "    </tr>\n",
       "    <tr>\n",
       "      <th>2</th>\n",
       "      <td>Dead</td>\n",
       "      <td>Yes</td>\n",
       "      <td>71</td>\n",
       "    </tr>\n",
       "    <tr>\n",
       "      <th>3</th>\n",
       "      <td>Alive</td>\n",
       "      <td>No</td>\n",
       "      <td>67</td>\n",
       "    </tr>\n",
       "    <tr>\n",
       "      <th>4</th>\n",
       "      <td>Alive</td>\n",
       "      <td>No</td>\n",
       "      <td>64</td>\n",
       "    </tr>\n",
       "  </tbody>\n",
       "</table>\n",
       "</div>"
      ],
      "text/plain": [
       "  outcome smoker  age\n",
       "0   Alive    Yes   23\n",
       "1   Alive    Yes   18\n",
       "2    Dead    Yes   71\n",
       "3   Alive     No   67\n",
       "4   Alive     No   64"
      ]
     },
     "execution_count": 4,
     "metadata": {},
     "output_type": "execute_result"
    }
   ],
   "source": [
    "person_df = pd.read_csv('whickham.csv')\n",
    "person_df.head()"
   ]
  },
  {
   "cell_type": "markdown",
   "metadata": {},
   "source": [
    "a."
   ]
  },
  {
   "attachments": {},
   "cell_type": "markdown",
   "metadata": {},
   "source": [
    "The numerical part of the dataset is the age of the person."
   ]
  },
  {
   "cell_type": "code",
   "execution_count": 14,
   "metadata": {},
   "outputs": [
    {
     "data": {
      "image/png": "[encoded data removed]",
      "text/plain": [
       "<Figure size 640x480 with 2 Axes>"
      ]
     },
     "metadata": {},
     "output_type": "display_data"
    }
   ],
   "source": [
    "age_s = pd.cut(person_df.age, bins= 2)\n",
    "sumiz1 = pd.crosstab(person_df.smoker, age_s)\n",
    "prob1 = sumiz1 / sumiz1.sum()\n",
    "sns.heatmap(prob1, annot=True, center=0.5 ,cmap=\"Greens\")\n",
    "plt.show()"
   ]
  },
  {
   "cell_type": "code",
   "execution_count": 15,
   "metadata": {},
   "outputs": [
    {
     "data": {
      "image/png": "[encoded data removed]",
      "text/plain": [
       "<Figure size 640x480 with 2 Axes>"
      ]
     },
     "metadata": {},
     "output_type": "display_data"
    }
   ],
   "source": [
    "age_s = pd.cut(person_df.age, bins= 2)\n",
    "sumiz2 = pd.crosstab(person_df.outcome, age_s)\n",
    "prob2 = sumiz2 / sumiz2.sum()\n",
    "sns.heatmap(prob2, annot=True, center=0.5 ,cmap=\"Reds\")\n",
    "plt.show()"
   ]
  },
  {
   "cell_type": "markdown",
   "metadata": {},
   "source": [
    "b."
   ]
  },
  {
   "attachments": {},
   "cell_type": "markdown",
   "metadata": {},
   "source": [
    "The categorical attributes in the dataset are smoker and outcome."
   ]
  },
  {
   "cell_type": "code",
   "execution_count": null,
   "metadata": {},
   "outputs": [],
   "source": []
  },
  {
   "cell_type": "markdown",
   "metadata": {},
   "source": [
    "c. "
   ]
  },
  {
   "cell_type": "code",
   "execution_count": null,
   "metadata": {},
   "outputs": [],
   "source": []
  },
  {
   "cell_type": "markdown",
   "metadata": {},
   "source": [
    "d. "
   ]
  },
  {
   "cell_type": "code",
   "execution_count": null,
   "metadata": {},
   "outputs": [],
   "source": []
  },
  {
   "cell_type": "markdown",
   "metadata": {},
   "source": [
    "e."
   ]
  },
  {
   "cell_type": "code",
   "execution_count": null,
   "metadata": {},
   "outputs": [],
   "source": []
  },
  {
   "cell_type": "markdown",
   "metadata": {},
   "source": [
    "f."
   ]
  },
  {
   "cell_type": "code",
   "execution_count": null,
   "metadata": {},
   "outputs": [],
   "source": []
  },
  {
   "cell_type": "markdown",
   "metadata": {},
   "source": [
    "# Excercise 6\n",
    "\n",
    "For this exercise, we will be using WH Report_preprocessed.csv. \n",
    "\n",
    "    a.\tUse this dataset to create a 5-dimensional scatterplot to show the interactions between the following 5 attributes: year, Healthy_life_expectancy_at_birth, Social_support, Life_Ladder, population. Use the control bar for the “year”, marker size for population, marker color for Social_support, x-axis for Healthy_life_expectancy_at_birth, and y-axis for Life_Ladder.\n",
    "    b.\tInteract with and study the visual you created under a) and report your observations. \n",
    "\n"
   ]
  },
  {
   "cell_type": "code",
   "execution_count": 27,
   "metadata": {},
   "outputs": [],
   "source": [
    "report_df = pd.read_csv('WH Report_preprocessed.csv')"
   ]
  },
  {
   "cell_type": "markdown",
   "metadata": {},
   "source": [
    "a."
   ]
  },
  {
   "cell_type": "code",
   "execution_count": null,
   "metadata": {},
   "outputs": [],
   "source": []
  },
  {
   "cell_type": "markdown",
   "metadata": {},
   "source": [
    "b. "
   ]
  },
  {
   "cell_type": "code",
   "execution_count": null,
   "metadata": {},
   "outputs": [],
   "source": []
  },
  {
   "cell_type": "markdown",
   "metadata": {},
   "source": [
    "# Excercise 7\n",
    "\n",
    "For this exercise, we will continue using WH Report_preprocessed.csv. \n",
    "\n",
    "    a.\tCreate a visual that shows the trend of change for the attribute Generosity for all the countries in the dataset. To avoid making the visual overwhelming use the color grey for the line plots of all the countries, and don’t use a legend.\n",
    "    b.\tAdd three more line plots to the previous visual using the color blue and a thicker line (linewidth=1.8) for the three countries, United States, China, and India. Work out the visual so it only shows you the legend of these three countries. The following screenshot shows the visual that is being described.\n",
    "\n"
   ]
  },
  {
   "cell_type": "markdown",
   "metadata": {},
   "source": [
    "Figure 5. 23. Line plot comparing Generosity across all countries in 2010 and 2019 with emphasis on the United States, India, and China\n"
   ]
  },
  {
   "cell_type": "markdown",
   "metadata": {},
   "source": [
    "    c.\tReport your observations from the visual. Make sure to employ all of the line plots (grey and blue ones) in your observations "
   ]
  },
  {
   "cell_type": "markdown",
   "metadata": {},
   "source": [
    "a."
   ]
  },
  {
   "cell_type": "code",
   "execution_count": null,
   "metadata": {},
   "outputs": [],
   "source": []
  },
  {
   "cell_type": "markdown",
   "metadata": {},
   "source": [
    "b."
   ]
  },
  {
   "cell_type": "code",
   "execution_count": null,
   "metadata": {},
   "outputs": [],
   "source": []
  },
  {
   "cell_type": "markdown",
   "metadata": {},
   "source": [
    "c."
   ]
  },
  {
   "cell_type": "code",
   "execution_count": null,
   "metadata": {},
   "outputs": [],
   "source": []
  }
 ],
 "metadata": {
  "kernelspec": {
   "display_name": "Python 3",
   "language": "python",
   "name": "python3"
  },
  "language_info": {
   "codemirror_mode": {
    "name": "ipython",
    "version": 3
   },
   "file_extension": ".py",
   "mimetype": "text/x-python",
   "name": "python",
   "nbconvert_exporter": "python",
   "pygments_lexer": "ipython3",
   "version": "3.10.9"
  },
  "vscode": {
   "interpreter": {
    "hash": "7e1f3683dc06b63936dcd5d8f5c711904bea7c3dda3fc3105d383118c7c366a9"
   }
  }
 },
 "nbformat": 4,
 "nbformat_minor": 4
}
